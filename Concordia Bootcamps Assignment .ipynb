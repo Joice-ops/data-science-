{
 "cells": [
  {
   "cell_type": "markdown",
   "id": "f70a6d5b",
   "metadata": {},
   "source": [
    "# Data Science Assignment\n"
   ]
  },
  {
   "cell_type": "code",
   "execution_count": 1,
   "id": "47fc04ac",
   "metadata": {},
   "outputs": [],
   "source": [
    "import pandas as pd \n",
    "import numpy as np"
   ]
  },
  {
   "cell_type": "code",
   "execution_count": 2,
   "id": "53e43e91",
   "metadata": {
    "scrolled": true
   },
   "outputs": [
    {
     "name": "stdout",
     "output_type": "stream",
     "text": [
      "<module 'pandas' from 'D:\\\\Zixian Ye\\\\anaconda\\\\Lib\\\\site-packages\\\\pandas\\\\__init__.py'>\n"
     ]
    }
   ],
   "source": [
    "print(pd)"
   ]
  },
  {
   "cell_type": "code",
   "execution_count": 3,
   "id": "efbc1af5",
   "metadata": {},
   "outputs": [],
   "source": [
    "df = pd.read_csv('results.csv')"
   ]
  },
  {
   "cell_type": "markdown",
   "id": "cff409d4",
   "metadata": {},
   "source": [
    "# What is the average number of goals for the home team?"
   ]
  },
  {
   "cell_type": "code",
   "execution_count": 4,
   "id": "b9a7ccbc",
   "metadata": {},
   "outputs": [
    {
     "data": {
      "text/plain": [
       "1.7393136930376256"
      ]
     },
     "execution_count": 4,
     "metadata": {},
     "output_type": "execute_result"
    }
   ],
   "source": [
    "df['home_score'].mean()"
   ]
  },
  {
   "cell_type": "markdown",
   "id": "cbf27a21",
   "metadata": {},
   "source": [
    "# What is the average number of goals for the away team?\n"
   ]
  },
  {
   "cell_type": "code",
   "execution_count": 5,
   "id": "42308485",
   "metadata": {},
   "outputs": [
    {
     "data": {
      "text/plain": [
       "1.1782412004854905"
      ]
     },
     "execution_count": 5,
     "metadata": {},
     "output_type": "execute_result"
    }
   ],
   "source": [
    "df['away_score'].mean()"
   ]
  },
  {
   "cell_type": "markdown",
   "id": "8442d1b8",
   "metadata": {},
   "source": [
    "# What is the country with the highest overall home score?"
   ]
  },
  {
   "cell_type": "code",
   "execution_count": 6,
   "id": "c2ca64f5",
   "metadata": {},
   "outputs": [
    {
     "data": {
      "text/plain": [
       "home_score    United States\n",
       "away_score    United States\n",
       "neutral       United States\n",
       "dtype: object"
      ]
     },
     "execution_count": 6,
     "metadata": {},
     "output_type": "execute_result"
    }
   ],
   "source": [
    "df.groupby('country').sum('home_score').idxmax()"
   ]
  },
  {
   "cell_type": "markdown",
   "id": "0283755d",
   "metadata": {},
   "source": [
    "# What are the top 3 type of tournaments?"
   ]
  },
  {
   "cell_type": "code",
   "execution_count": 7,
   "id": "c9148bda",
   "metadata": {},
   "outputs": [
    {
     "data": {
      "text/plain": [
       "tournament\n",
       "Friendly                                0.392210\n",
       "FIFA World Cup qualification            0.176895\n",
       "UEFA Euro qualification                 0.062121\n",
       "African Cup of Nations qualification    0.044091\n",
       "FIFA World Cup                          0.021273\n",
       "                                          ...   \n",
       "Copa Confraternidad                     0.000022\n",
       "FIFA 75th Anniversary Cup               0.000022\n",
       "Real Madrid 75th Anniversary Cup        0.000022\n",
       "Évence Coppée Trophy                    0.000022\n",
       "The Other Final                         0.000022\n",
       "Name: proportion, Length: 147, dtype: float64"
      ]
     },
     "execution_count": 7,
     "metadata": {},
     "output_type": "execute_result"
    }
   ],
   "source": [
    "df['tournament'].value_counts(normalize=True)"
   ]
  },
  {
   "cell_type": "markdown",
   "id": "b47e3714",
   "metadata": {},
   "source": [
    "# Which country has the highest overall FIFA World Cup goals?"
   ]
  },
  {
   "cell_type": "code",
   "execution_count": 8,
   "id": "280d49be",
   "metadata": {},
   "outputs": [
    {
     "name": "stdout",
     "output_type": "stream",
     "text": [
      "             date              home_team       away_team  home_score  \\\n",
      "1588   1933-06-11                 Sweden         Estonia           6   \n",
      "1593   1933-06-29              Lithuania          Sweden           0   \n",
      "1612   1933-09-24             Yugoslavia     Switzerland           2   \n",
      "1620   1933-10-15                 Poland  Czechoslovakia           1   \n",
      "1627   1933-10-29            Switzerland         Romania           2   \n",
      "...           ...                    ...             ...         ...   \n",
      "45300  2023-11-21                Somalia          Uganda           0   \n",
      "45301  2023-11-21               Botswana          Guinea           1   \n",
      "45302  2023-11-21                 Malawi         Tunisia           0   \n",
      "45303  2023-11-21  São Tomé and Príncipe         Namibia           0   \n",
      "45304  2023-11-21                Comoros           Ghana           1   \n",
      "\n",
      "       away_score                    tournament         city      country  \\\n",
      "1588            2  FIFA World Cup qualification    Stockholm       Sweden   \n",
      "1593            2  FIFA World Cup qualification       Kaunas    Lithuania   \n",
      "1612            2  FIFA World Cup qualification     Belgrade   Yugoslavia   \n",
      "1620            2  FIFA World Cup qualification       Warsaw       Poland   \n",
      "1627            2  FIFA World Cup qualification        Berne  Switzerland   \n",
      "...           ...                           ...          ...          ...   \n",
      "45300           1  FIFA World Cup qualification      Berkane      Morocco   \n",
      "45301           0  FIFA World Cup qualification  Francistown     Botswana   \n",
      "45302           1  FIFA World Cup qualification     Lilongwe       Malawi   \n",
      "45303           2  FIFA World Cup qualification       Agadir      Morocco   \n",
      "45304           0  FIFA World Cup qualification       Moroni      Comoros   \n",
      "\n",
      "       neutral  \n",
      "1588     False  \n",
      "1593     False  \n",
      "1612     False  \n",
      "1620     False  \n",
      "1627     False  \n",
      "...        ...  \n",
      "45300     True  \n",
      "45301    False  \n",
      "45302    False  \n",
      "45303     True  \n",
      "45304    False  \n",
      "\n",
      "[8016 rows x 9 columns]\n"
     ]
    }
   ],
   "source": [
    "df = pd.read_csv('results.csv')\n",
    "fifa_df = df[df['tournament'] == 'FIFA World Cup qualification']\n",
    "print(fifa_df)"
   ]
  },
  {
   "cell_type": "code",
   "execution_count": 9,
   "id": "f45c22c7",
   "metadata": {
    "scrolled": true
   },
   "outputs": [
    {
     "name": "stderr",
     "output_type": "stream",
     "text": [
      "C:\\Users\\Zixian Ye\\AppData\\Local\\Temp\\ipykernel_21020\\914409816.py:1: SettingWithCopyWarning: \n",
      "A value is trying to be set on a copy of a slice from a DataFrame.\n",
      "Try using .loc[row_indexer,col_indexer] = value instead\n",
      "\n",
      "See the caveats in the documentation: https://pandas.pydata.org/pandas-docs/stable/user_guide/indexing.html#returning-a-view-versus-a-copy\n",
      "  fifa_df['total_score'] = fifa_df['home_score'] + fifa_df['away_score']\n"
     ]
    }
   ],
   "source": [
    "fifa_df['total_score'] = fifa_df['home_score'] + fifa_df['away_score']"
   ]
  },
  {
   "cell_type": "code",
   "execution_count": 10,
   "id": "3322d385",
   "metadata": {},
   "outputs": [
    {
     "data": {
      "text/html": [
       "<div>\n",
       "<style scoped>\n",
       "    .dataframe tbody tr th:only-of-type {\n",
       "        vertical-align: middle;\n",
       "    }\n",
       "\n",
       "    .dataframe tbody tr th {\n",
       "        vertical-align: top;\n",
       "    }\n",
       "\n",
       "    .dataframe thead th {\n",
       "        text-align: right;\n",
       "    }\n",
       "</style>\n",
       "<table border=\"1\" class=\"dataframe\">\n",
       "  <thead>\n",
       "    <tr style=\"text-align: right;\">\n",
       "      <th></th>\n",
       "      <th>date</th>\n",
       "      <th>home_team</th>\n",
       "      <th>away_team</th>\n",
       "      <th>home_score</th>\n",
       "      <th>away_score</th>\n",
       "      <th>tournament</th>\n",
       "      <th>city</th>\n",
       "      <th>country</th>\n",
       "      <th>neutral</th>\n",
       "      <th>total_score</th>\n",
       "    </tr>\n",
       "  </thead>\n",
       "  <tbody>\n",
       "    <tr>\n",
       "      <th>28285</th>\n",
       "      <td>2005-10-12</td>\n",
       "      <td>Hungary</td>\n",
       "      <td>Croatia</td>\n",
       "      <td>0</td>\n",
       "      <td>0</td>\n",
       "      <td>FIFA World Cup qualification</td>\n",
       "      <td>Budapest</td>\n",
       "      <td>Hungary</td>\n",
       "      <td>False</td>\n",
       "      <td>0</td>\n",
       "    </tr>\n",
       "    <tr>\n",
       "      <th>43302</th>\n",
       "      <td>2021-11-12</td>\n",
       "      <td>Guinea</td>\n",
       "      <td>Guinea-Bissau</td>\n",
       "      <td>0</td>\n",
       "      <td>0</td>\n",
       "      <td>FIFA World Cup qualification</td>\n",
       "      <td>Conakry</td>\n",
       "      <td>Guinea</td>\n",
       "      <td>False</td>\n",
       "      <td>0</td>\n",
       "    </tr>\n",
       "    <tr>\n",
       "      <th>9892</th>\n",
       "      <td>1976-04-16</td>\n",
       "      <td>Libya</td>\n",
       "      <td>Algeria</td>\n",
       "      <td>0</td>\n",
       "      <td>0</td>\n",
       "      <td>FIFA World Cup qualification</td>\n",
       "      <td>Tripoli</td>\n",
       "      <td>Libya</td>\n",
       "      <td>False</td>\n",
       "      <td>0</td>\n",
       "    </tr>\n",
       "    <tr>\n",
       "      <th>23028</th>\n",
       "      <td>2000-03-19</td>\n",
       "      <td>Cayman Islands</td>\n",
       "      <td>Cuba</td>\n",
       "      <td>0</td>\n",
       "      <td>0</td>\n",
       "      <td>FIFA World Cup qualification</td>\n",
       "      <td>George Town</td>\n",
       "      <td>Cayman Islands</td>\n",
       "      <td>False</td>\n",
       "      <td>0</td>\n",
       "    </tr>\n",
       "    <tr>\n",
       "      <th>21305</th>\n",
       "      <td>1997-11-16</td>\n",
       "      <td>Jamaica</td>\n",
       "      <td>Mexico</td>\n",
       "      <td>0</td>\n",
       "      <td>0</td>\n",
       "      <td>FIFA World Cup qualification</td>\n",
       "      <td>Kingston</td>\n",
       "      <td>Jamaica</td>\n",
       "      <td>False</td>\n",
       "      <td>0</td>\n",
       "    </tr>\n",
       "    <tr>\n",
       "      <th>...</th>\n",
       "      <td>...</td>\n",
       "      <td>...</td>\n",
       "      <td>...</td>\n",
       "      <td>...</td>\n",
       "      <td>...</td>\n",
       "      <td>...</td>\n",
       "      <td>...</td>\n",
       "      <td>...</td>\n",
       "      <td>...</td>\n",
       "      <td>...</td>\n",
       "    </tr>\n",
       "    <tr>\n",
       "      <th>23823</th>\n",
       "      <td>2000-11-26</td>\n",
       "      <td>Tajikistan</td>\n",
       "      <td>Guam</td>\n",
       "      <td>16</td>\n",
       "      <td>0</td>\n",
       "      <td>FIFA World Cup qualification</td>\n",
       "      <td>Tabriz</td>\n",
       "      <td>Iran</td>\n",
       "      <td>True</td>\n",
       "      <td>16</td>\n",
       "    </tr>\n",
       "    <tr>\n",
       "      <th>20864</th>\n",
       "      <td>1997-06-02</td>\n",
       "      <td>Maldives</td>\n",
       "      <td>Iran</td>\n",
       "      <td>0</td>\n",
       "      <td>17</td>\n",
       "      <td>FIFA World Cup qualification</td>\n",
       "      <td>Damascus</td>\n",
       "      <td>Syria</td>\n",
       "      <td>True</td>\n",
       "      <td>17</td>\n",
       "    </tr>\n",
       "    <tr>\n",
       "      <th>23820</th>\n",
       "      <td>2000-11-24</td>\n",
       "      <td>Iran</td>\n",
       "      <td>Guam</td>\n",
       "      <td>19</td>\n",
       "      <td>0</td>\n",
       "      <td>FIFA World Cup qualification</td>\n",
       "      <td>Tabriz</td>\n",
       "      <td>Iran</td>\n",
       "      <td>False</td>\n",
       "      <td>19</td>\n",
       "    </tr>\n",
       "    <tr>\n",
       "      <th>24157</th>\n",
       "      <td>2001-04-09</td>\n",
       "      <td>Australia</td>\n",
       "      <td>Tonga</td>\n",
       "      <td>22</td>\n",
       "      <td>0</td>\n",
       "      <td>FIFA World Cup qualification</td>\n",
       "      <td>Coffs Harbour</td>\n",
       "      <td>Australia</td>\n",
       "      <td>False</td>\n",
       "      <td>22</td>\n",
       "    </tr>\n",
       "    <tr>\n",
       "      <th>24160</th>\n",
       "      <td>2001-04-11</td>\n",
       "      <td>Australia</td>\n",
       "      <td>American Samoa</td>\n",
       "      <td>31</td>\n",
       "      <td>0</td>\n",
       "      <td>FIFA World Cup qualification</td>\n",
       "      <td>Coffs Harbour</td>\n",
       "      <td>Australia</td>\n",
       "      <td>False</td>\n",
       "      <td>31</td>\n",
       "    </tr>\n",
       "  </tbody>\n",
       "</table>\n",
       "<p>8016 rows × 10 columns</p>\n",
       "</div>"
      ],
      "text/plain": [
       "             date       home_team       away_team  home_score  away_score  \\\n",
       "28285  2005-10-12         Hungary         Croatia           0           0   \n",
       "43302  2021-11-12          Guinea   Guinea-Bissau           0           0   \n",
       "9892   1976-04-16           Libya         Algeria           0           0   \n",
       "23028  2000-03-19  Cayman Islands            Cuba           0           0   \n",
       "21305  1997-11-16         Jamaica          Mexico           0           0   \n",
       "...           ...             ...             ...         ...         ...   \n",
       "23823  2000-11-26      Tajikistan            Guam          16           0   \n",
       "20864  1997-06-02        Maldives            Iran           0          17   \n",
       "23820  2000-11-24            Iran            Guam          19           0   \n",
       "24157  2001-04-09       Australia           Tonga          22           0   \n",
       "24160  2001-04-11       Australia  American Samoa          31           0   \n",
       "\n",
       "                         tournament           city         country  neutral  \\\n",
       "28285  FIFA World Cup qualification       Budapest         Hungary    False   \n",
       "43302  FIFA World Cup qualification        Conakry          Guinea    False   \n",
       "9892   FIFA World Cup qualification        Tripoli           Libya    False   \n",
       "23028  FIFA World Cup qualification    George Town  Cayman Islands    False   \n",
       "21305  FIFA World Cup qualification       Kingston         Jamaica    False   \n",
       "...                             ...            ...             ...      ...   \n",
       "23823  FIFA World Cup qualification         Tabriz            Iran     True   \n",
       "20864  FIFA World Cup qualification       Damascus           Syria     True   \n",
       "23820  FIFA World Cup qualification         Tabriz            Iran    False   \n",
       "24157  FIFA World Cup qualification  Coffs Harbour       Australia    False   \n",
       "24160  FIFA World Cup qualification  Coffs Harbour       Australia    False   \n",
       "\n",
       "       total_score  \n",
       "28285            0  \n",
       "43302            0  \n",
       "9892             0  \n",
       "23028            0  \n",
       "21305            0  \n",
       "...            ...  \n",
       "23823           16  \n",
       "20864           17  \n",
       "23820           19  \n",
       "24157           22  \n",
       "24160           31  \n",
       "\n",
       "[8016 rows x 10 columns]"
      ]
     },
     "execution_count": 10,
     "metadata": {},
     "output_type": "execute_result"
    }
   ],
   "source": [
    "fifa_df.groupby('country')['total_score'].idxmax()\n",
    "fifa_df.sort_values(by='total_score', ascending=True)"
   ]
  },
  {
   "cell_type": "code",
   "execution_count": 11,
   "id": "993ded68",
   "metadata": {},
   "outputs": [
    {
     "data": {
      "text/plain": [
       "'Australia'"
      ]
     },
     "execution_count": 11,
     "metadata": {},
     "output_type": "execute_result"
    }
   ],
   "source": [
    "max_idx = fifa_df['total_score'].idxmax()\n",
    "df.loc[max_idx, 'country']"
   ]
  },
  {
   "cell_type": "code",
   "execution_count": null,
   "id": "84b846f2",
   "metadata": {},
   "outputs": [],
   "source": []
  }
 ],
 "metadata": {
  "kernelspec": {
   "display_name": "Python 3 (ipykernel)",
   "language": "python",
   "name": "python3"
  },
  "language_info": {
   "codemirror_mode": {
    "name": "ipython",
    "version": 3
   },
   "file_extension": ".py",
   "mimetype": "text/x-python",
   "name": "python",
   "nbconvert_exporter": "python",
   "pygments_lexer": "ipython3",
   "version": "3.11.5"
  }
 },
 "nbformat": 4,
 "nbformat_minor": 5
}
