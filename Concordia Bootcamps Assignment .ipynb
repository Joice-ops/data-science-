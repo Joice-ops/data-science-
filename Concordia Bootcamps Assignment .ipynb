{
 "cells": [
  {
   "cell_type": "markdown",
   "id": "f70a6d5b",
   "metadata": {},
   "source": [
    "# Data Science Assignment\n"
   ]
  },
  {
   "cell_type": "code",
   "execution_count": 1,
   "id": "47fc04ac",
   "metadata": {},
   "outputs": [],
   "source": [
    "import pandas as pd \n",
    "import numpy as np"
   ]
  },
  {
   "cell_type": "code",
   "execution_count": 2,
   "id": "53e43e91",
   "metadata": {
    "scrolled": true
   },
   "outputs": [
    {
     "name": "stdout",
     "output_type": "stream",
     "text": [
      "<module 'pandas' from 'D:\\\\Zixian Ye\\\\anaconda\\\\Lib\\\\site-packages\\\\pandas\\\\__init__.py'>\n"
     ]
    }
   ],
   "source": [
    "print(pd)"
   ]
  },
  {
   "cell_type": "code",
   "execution_count": 3,
   "id": "efbc1af5",
   "metadata": {},
   "outputs": [],
   "source": [
    "df = pd.read_csv('results.csv')"
   ]
  },
  {
   "cell_type": "markdown",
   "id": "cff409d4",
   "metadata": {},
   "source": [
    "# What is the average number of goals for the home team?"
   ]
  },
  {
   "cell_type": "code",
   "execution_count": 4,
   "id": "b9a7ccbc",
   "metadata": {},
   "outputs": [
    {
     "data": {
      "text/plain": [
       "1.7393136930376256"
      ]
     },
     "execution_count": 4,
     "metadata": {},
     "output_type": "execute_result"
    }
   ],
   "source": [
    "df['home_score'].mean()"
   ]
  },
  {
   "cell_type": "markdown",
   "id": "cbf27a21",
   "metadata": {},
   "source": [
    "# What is the average number of goals for the away team?\n"
   ]
  },
  {
   "cell_type": "code",
   "execution_count": 5,
   "id": "42308485",
   "metadata": {},
   "outputs": [
    {
     "data": {
      "text/plain": [
       "1.1782412004854905"
      ]
     },
     "execution_count": 5,
     "metadata": {},
     "output_type": "execute_result"
    }
   ],
   "source": [
    "df['away_score'].mean()"
   ]
  },
  {
   "cell_type": "markdown",
   "id": "8442d1b8",
   "metadata": {},
   "source": [
    "# What is the country with the highest overall home score?"
   ]
  },
  {
   "cell_type": "code",
   "execution_count": 6,
   "id": "c2ca64f5",
   "metadata": {},
   "outputs": [
    {
     "data": {
      "text/plain": [
       "home_score    United States\n",
       "away_score    United States\n",
       "neutral       United States\n",
       "dtype: object"
      ]
     },
     "execution_count": 6,
     "metadata": {},
     "output_type": "execute_result"
    }
   ],
   "source": [
    "df.groupby('country').sum('home_score').idxmax()"
   ]
  },
  {
   "cell_type": "markdown",
   "id": "0283755d",
   "metadata": {},
   "source": [
    "# What are the top 3 type of tournaments?"
   ]
  },
  {
   "cell_type": "code",
   "execution_count": 7,
   "id": "c9148bda",
   "metadata": {},
   "outputs": [
    {
     "data": {
      "text/plain": [
       "tournament\n",
       "Friendly                                0.392210\n",
       "FIFA World Cup qualification            0.176895\n",
       "UEFA Euro qualification                 0.062121\n",
       "African Cup of Nations qualification    0.044091\n",
       "FIFA World Cup                          0.021273\n",
       "                                          ...   \n",
       "Copa Confraternidad                     0.000022\n",
       "FIFA 75th Anniversary Cup               0.000022\n",
       "Real Madrid 75th Anniversary Cup        0.000022\n",
       "Évence Coppée Trophy                    0.000022\n",
       "The Other Final                         0.000022\n",
       "Name: proportion, Length: 147, dtype: float64"
      ]
     },
     "execution_count": 7,
     "metadata": {},
     "output_type": "execute_result"
    }
   ],
   "source": [
    "df['tournament'].value_counts(normalize=True)"
   ]
  },
  {
   "cell_type": "markdown",
   "id": "b47e3714",
   "metadata": {},
   "source": [
    "# Which country has the highest overall FIFA World Cup goals?"
   ]
  },
  {
   "cell_type": "code",
   "execution_count": 8,
   "id": "ac567d08",
   "metadata": {},
   "outputs": [
    {
     "data": {
      "text/plain": [
       "'Australia'"
      ]
     },
     "execution_count": 8,
     "metadata": {},
     "output_type": "execute_result"
    }
   ],
   "source": [
    "df['total_score'] = df['home_score'] +df['away_score']\n",
    "df.groupby('country')['total_score'].idxmax()\n",
    "max_idx = df['total_score'].idxmax()\n",
    "df.loc[max_idx, 'country']"
   ]
  },
  {
   "cell_type": "code",
   "execution_count": null,
   "id": "84b846f2",
   "metadata": {},
   "outputs": [],
   "source": []
  }
 ],
 "metadata": {
  "kernelspec": {
   "display_name": "Python 3 (ipykernel)",
   "language": "python",
   "name": "python3"
  },
  "language_info": {
   "codemirror_mode": {
    "name": "ipython",
    "version": 3
   },
   "file_extension": ".py",
   "mimetype": "text/x-python",
   "name": "python",
   "nbconvert_exporter": "python",
   "pygments_lexer": "ipython3",
   "version": "3.11.5"
  }
 },
 "nbformat": 4,
 "nbformat_minor": 5
}
