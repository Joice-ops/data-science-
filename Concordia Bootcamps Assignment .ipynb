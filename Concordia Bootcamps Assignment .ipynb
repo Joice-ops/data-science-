{
 "cells": [
  {
   "cell_type": "markdown",
   "id": "9c58ccac",
   "metadata": {},
   "source": [
    "# Data Science Assignment\n"
   ]
  },
  {
   "cell_type": "code",
   "execution_count": 1,
   "id": "c3694887",
   "metadata": {},
   "outputs": [],
   "source": [
    "import pandas as pd \n",
    "import numpy as np"
   ]
  },
  {
   "cell_type": "code",
   "execution_count": 2,
   "id": "28968721",
   "metadata": {
    "scrolled": true
   },
   "outputs": [
    {
     "name": "stdout",
     "output_type": "stream",
     "text": [
      "<module 'pandas' from 'D:\\\\Zixian Ye\\\\anaconda\\\\Lib\\\\site-packages\\\\pandas\\\\__init__.py'>\n"
     ]
    }
   ],
   "source": [
    "print(pd)"
   ]
  },
  {
   "cell_type": "code",
   "execution_count": 3,
   "id": "9f5f6082",
   "metadata": {},
   "outputs": [],
   "source": [
    "df = pd.read_csv('results.csv')"
   ]
  },
  {
   "cell_type": "markdown",
   "id": "a9b2d478",
   "metadata": {},
   "source": [
    "# What is the average number of goals for the home team?"
   ]
  },
  {
   "cell_type": "code",
   "execution_count": 4,
   "id": "2295e580",
   "metadata": {},
   "outputs": [
    {
     "data": {
      "text/plain": [
       "1.7393136930376256"
      ]
     },
     "execution_count": 4,
     "metadata": {},
     "output_type": "execute_result"
    }
   ],
   "source": [
    "df['home_score'].mean()"
   ]
  },
  {
   "cell_type": "markdown",
   "id": "12409fbd",
   "metadata": {},
   "source": [
    "# What is the average number of goals for the away team?\n"
   ]
  },
  {
   "cell_type": "code",
   "execution_count": 5,
   "id": "1d5a1413",
   "metadata": {},
   "outputs": [
    {
     "data": {
      "text/plain": [
       "1.1782412004854905"
      ]
     },
     "execution_count": 5,
     "metadata": {},
     "output_type": "execute_result"
    }
   ],
   "source": [
    "df['away_score'].mean()"
   ]
  },
  {
   "cell_type": "markdown",
   "id": "e3f313c8",
   "metadata": {},
   "source": [
    "# What is the country with the highest overall home score?"
   ]
  },
  {
   "cell_type": "code",
   "execution_count": 6,
   "id": "a1c8e245",
   "metadata": {},
   "outputs": [
    {
     "data": {
      "text/plain": [
       "home_score    United States\n",
       "away_score    United States\n",
       "neutral       United States\n",
       "dtype: object"
      ]
     },
     "execution_count": 6,
     "metadata": {},
     "output_type": "execute_result"
    }
   ],
   "source": [
    "df.groupby('country').sum('home_score').idxmax()"
   ]
  },
  {
   "cell_type": "markdown",
   "id": "4a84561c",
   "metadata": {},
   "source": [
    "# What are the top 3 type of tournaments?"
   ]
  },
  {
   "cell_type": "code",
   "execution_count": 7,
   "id": "6c39aa9e",
   "metadata": {},
   "outputs": [
    {
     "data": {
      "text/plain": [
       "tournament\n",
       "Friendly                                0.392210\n",
       "FIFA World Cup qualification            0.176895\n",
       "UEFA Euro qualification                 0.062121\n",
       "African Cup of Nations qualification    0.044091\n",
       "FIFA World Cup                          0.021273\n",
       "                                          ...   \n",
       "Copa Confraternidad                     0.000022\n",
       "FIFA 75th Anniversary Cup               0.000022\n",
       "Real Madrid 75th Anniversary Cup        0.000022\n",
       "Évence Coppée Trophy                    0.000022\n",
       "The Other Final                         0.000022\n",
       "Name: proportion, Length: 147, dtype: float64"
      ]
     },
     "execution_count": 7,
     "metadata": {},
     "output_type": "execute_result"
    }
   ],
   "source": [
    "df['tournament'].value_counts(normalize=True)"
   ]
  },
  {
   "cell_type": "markdown",
   "id": "8ff3c0f3",
   "metadata": {},
   "source": [
    "# Which country has the highest overall FIFA World Cup goals?"
   ]
  },
  {
   "cell_type": "code",
   "execution_count": 8,
   "id": "d75c4177",
   "metadata": {},
   "outputs": [
    {
     "name": "stdout",
     "output_type": "stream",
     "text": [
      "             date  home_team      away_team  home_score  away_score  \\\n",
      "1311   1930-07-13    Belgium  United States           0           3   \n",
      "1312   1930-07-13     France         Mexico           4           1   \n",
      "1313   1930-07-14     Brazil     Yugoslavia           1           2   \n",
      "1314   1930-07-14       Peru        Romania           1           3   \n",
      "1315   1930-07-15  Argentina         France           1           0   \n",
      "...           ...        ...            ...         ...         ...   \n",
      "44349  2022-12-10    England         France           1           2   \n",
      "44351  2022-12-13  Argentina        Croatia           3           0   \n",
      "44352  2022-12-14     France        Morocco           2           0   \n",
      "44356  2022-12-17    Croatia        Morocco           2           1   \n",
      "44358  2022-12-18  Argentina         France           3           3   \n",
      "\n",
      "           tournament        city  country  neutral  \n",
      "1311   FIFA World Cup  Montevideo  Uruguay     True  \n",
      "1312   FIFA World Cup  Montevideo  Uruguay     True  \n",
      "1313   FIFA World Cup  Montevideo  Uruguay     True  \n",
      "1314   FIFA World Cup  Montevideo  Uruguay     True  \n",
      "1315   FIFA World Cup  Montevideo  Uruguay     True  \n",
      "...               ...         ...      ...      ...  \n",
      "44349  FIFA World Cup     Al Khor    Qatar     True  \n",
      "44351  FIFA World Cup      Lusail    Qatar     True  \n",
      "44352  FIFA World Cup     Al Khor    Qatar     True  \n",
      "44356  FIFA World Cup   Al Rayyan    Qatar     True  \n",
      "44358  FIFA World Cup      Lusail    Qatar     True  \n",
      "\n",
      "[964 rows x 9 columns]\n"
     ]
    }
   ],
   "source": [
    "df = pd.read_csv('results.csv')\n",
    "fifa_df = df[df['tournament'] == 'FIFA World Cup']\n",
    "print(fifa_df)"
   ]
  },
  {
   "cell_type": "code",
   "execution_count": 9,
   "id": "1d3a9441",
   "metadata": {
    "scrolled": true
   },
   "outputs": [
    {
     "name": "stderr",
     "output_type": "stream",
     "text": [
      "C:\\Users\\Zixian Ye\\AppData\\Local\\Temp\\ipykernel_11196\\914409816.py:1: SettingWithCopyWarning: \n",
      "A value is trying to be set on a copy of a slice from a DataFrame.\n",
      "Try using .loc[row_indexer,col_indexer] = value instead\n",
      "\n",
      "See the caveats in the documentation: https://pandas.pydata.org/pandas-docs/stable/user_guide/indexing.html#returning-a-view-versus-a-copy\n",
      "  fifa_df['total_score'] = fifa_df['home_score'] + fifa_df['away_score']\n"
     ]
    }
   ],
   "source": [
    "fifa_df['total_score'] = fifa_df['home_score'] + fifa_df['away_score']"
   ]
  },
  {
   "cell_type": "code",
   "execution_count": 10,
   "id": "208e7a8f",
   "metadata": {},
   "outputs": [
    {
     "data": {
      "text/html": [
       "<div>\n",
       "<style scoped>\n",
       "    .dataframe tbody tr th:only-of-type {\n",
       "        vertical-align: middle;\n",
       "    }\n",
       "\n",
       "    .dataframe tbody tr th {\n",
       "        vertical-align: top;\n",
       "    }\n",
       "\n",
       "    .dataframe thead th {\n",
       "        text-align: right;\n",
       "    }\n",
       "</style>\n",
       "<table border=\"1\" class=\"dataframe\">\n",
       "  <thead>\n",
       "    <tr style=\"text-align: right;\">\n",
       "      <th></th>\n",
       "      <th>date</th>\n",
       "      <th>home_team</th>\n",
       "      <th>away_team</th>\n",
       "      <th>home_score</th>\n",
       "      <th>away_score</th>\n",
       "      <th>tournament</th>\n",
       "      <th>city</th>\n",
       "      <th>country</th>\n",
       "      <th>neutral</th>\n",
       "      <th>total_score</th>\n",
       "    </tr>\n",
       "  </thead>\n",
       "  <tbody>\n",
       "    <tr>\n",
       "      <th>9203</th>\n",
       "      <td>1974-06-15</td>\n",
       "      <td>Sweden</td>\n",
       "      <td>Bulgaria</td>\n",
       "      <td>0</td>\n",
       "      <td>0</td>\n",
       "      <td>FIFA World Cup</td>\n",
       "      <td>Düsseldorf</td>\n",
       "      <td>Germany</td>\n",
       "      <td>True</td>\n",
       "      <td>0</td>\n",
       "    </tr>\n",
       "    <tr>\n",
       "      <th>4393</th>\n",
       "      <td>1958-06-15</td>\n",
       "      <td>Sweden</td>\n",
       "      <td>Wales</td>\n",
       "      <td>0</td>\n",
       "      <td>0</td>\n",
       "      <td>FIFA World Cup</td>\n",
       "      <td>Solna</td>\n",
       "      <td>Sweden</td>\n",
       "      <td>False</td>\n",
       "      <td>0</td>\n",
       "    </tr>\n",
       "    <tr>\n",
       "      <th>32558</th>\n",
       "      <td>2010-06-18</td>\n",
       "      <td>England</td>\n",
       "      <td>Algeria</td>\n",
       "      <td>0</td>\n",
       "      <td>0</td>\n",
       "      <td>FIFA World Cup</td>\n",
       "      <td>Cape Town</td>\n",
       "      <td>South Africa</td>\n",
       "      <td>True</td>\n",
       "      <td>0</td>\n",
       "    </tr>\n",
       "    <tr>\n",
       "      <th>10760</th>\n",
       "      <td>1978-06-07</td>\n",
       "      <td>Brazil</td>\n",
       "      <td>Spain</td>\n",
       "      <td>0</td>\n",
       "      <td>0</td>\n",
       "      <td>FIFA World Cup</td>\n",
       "      <td>Mar del Plata</td>\n",
       "      <td>Argentina</td>\n",
       "      <td>True</td>\n",
       "      <td>0</td>\n",
       "    </tr>\n",
       "    <tr>\n",
       "      <th>10762</th>\n",
       "      <td>1978-06-07</td>\n",
       "      <td>Netherlands</td>\n",
       "      <td>Peru</td>\n",
       "      <td>0</td>\n",
       "      <td>0</td>\n",
       "      <td>FIFA World Cup</td>\n",
       "      <td>Mendoza</td>\n",
       "      <td>Argentina</td>\n",
       "      <td>True</td>\n",
       "      <td>0</td>\n",
       "    </tr>\n",
       "    <tr>\n",
       "      <th>...</th>\n",
       "      <td>...</td>\n",
       "      <td>...</td>\n",
       "      <td>...</td>\n",
       "      <td>...</td>\n",
       "      <td>...</td>\n",
       "      <td>...</td>\n",
       "      <td>...</td>\n",
       "      <td>...</td>\n",
       "      <td>...</td>\n",
       "      <td>...</td>\n",
       "    </tr>\n",
       "    <tr>\n",
       "      <th>4373</th>\n",
       "      <td>1958-06-08</td>\n",
       "      <td>France</td>\n",
       "      <td>Paraguay</td>\n",
       "      <td>7</td>\n",
       "      <td>3</td>\n",
       "      <td>FIFA World Cup</td>\n",
       "      <td>Norrköping</td>\n",
       "      <td>Sweden</td>\n",
       "      <td>True</td>\n",
       "      <td>10</td>\n",
       "    </tr>\n",
       "    <tr>\n",
       "      <th>12559</th>\n",
       "      <td>1982-06-15</td>\n",
       "      <td>Hungary</td>\n",
       "      <td>El Salvador</td>\n",
       "      <td>10</td>\n",
       "      <td>1</td>\n",
       "      <td>FIFA World Cup</td>\n",
       "      <td>Elche</td>\n",
       "      <td>Spain</td>\n",
       "      <td>True</td>\n",
       "      <td>11</td>\n",
       "    </tr>\n",
       "    <tr>\n",
       "      <th>3674</th>\n",
       "      <td>1954-06-20</td>\n",
       "      <td>Germany</td>\n",
       "      <td>Hungary</td>\n",
       "      <td>3</td>\n",
       "      <td>8</td>\n",
       "      <td>FIFA World Cup</td>\n",
       "      <td>Basel</td>\n",
       "      <td>Switzerland</td>\n",
       "      <td>True</td>\n",
       "      <td>11</td>\n",
       "    </tr>\n",
       "    <tr>\n",
       "      <th>2101</th>\n",
       "      <td>1938-06-05</td>\n",
       "      <td>Brazil</td>\n",
       "      <td>Poland</td>\n",
       "      <td>6</td>\n",
       "      <td>5</td>\n",
       "      <td>FIFA World Cup</td>\n",
       "      <td>Strasbourg</td>\n",
       "      <td>France</td>\n",
       "      <td>True</td>\n",
       "      <td>11</td>\n",
       "    </tr>\n",
       "    <tr>\n",
       "      <th>3680</th>\n",
       "      <td>1954-06-26</td>\n",
       "      <td>Switzerland</td>\n",
       "      <td>Austria</td>\n",
       "      <td>5</td>\n",
       "      <td>7</td>\n",
       "      <td>FIFA World Cup</td>\n",
       "      <td>Lausanne</td>\n",
       "      <td>Switzerland</td>\n",
       "      <td>False</td>\n",
       "      <td>12</td>\n",
       "    </tr>\n",
       "  </tbody>\n",
       "</table>\n",
       "<p>964 rows × 10 columns</p>\n",
       "</div>"
      ],
      "text/plain": [
       "             date    home_team    away_team  home_score  away_score  \\\n",
       "9203   1974-06-15       Sweden     Bulgaria           0           0   \n",
       "4393   1958-06-15       Sweden        Wales           0           0   \n",
       "32558  2010-06-18      England      Algeria           0           0   \n",
       "10760  1978-06-07       Brazil        Spain           0           0   \n",
       "10762  1978-06-07  Netherlands         Peru           0           0   \n",
       "...           ...          ...          ...         ...         ...   \n",
       "4373   1958-06-08       France     Paraguay           7           3   \n",
       "12559  1982-06-15      Hungary  El Salvador          10           1   \n",
       "3674   1954-06-20      Germany      Hungary           3           8   \n",
       "2101   1938-06-05       Brazil       Poland           6           5   \n",
       "3680   1954-06-26  Switzerland      Austria           5           7   \n",
       "\n",
       "           tournament           city       country  neutral  total_score  \n",
       "9203   FIFA World Cup     Düsseldorf       Germany     True            0  \n",
       "4393   FIFA World Cup          Solna        Sweden    False            0  \n",
       "32558  FIFA World Cup      Cape Town  South Africa     True            0  \n",
       "10760  FIFA World Cup  Mar del Plata     Argentina     True            0  \n",
       "10762  FIFA World Cup        Mendoza     Argentina     True            0  \n",
       "...               ...            ...           ...      ...          ...  \n",
       "4373   FIFA World Cup     Norrköping        Sweden     True           10  \n",
       "12559  FIFA World Cup          Elche         Spain     True           11  \n",
       "3674   FIFA World Cup          Basel   Switzerland     True           11  \n",
       "2101   FIFA World Cup     Strasbourg        France     True           11  \n",
       "3680   FIFA World Cup       Lausanne   Switzerland    False           12  \n",
       "\n",
       "[964 rows x 10 columns]"
      ]
     },
     "execution_count": 10,
     "metadata": {},
     "output_type": "execute_result"
    }
   ],
   "source": [
    "fifa_df.groupby('country').sum('total_score')\n",
    "fifa_df.sort_values(by='total_score', ascending=True)"
   ]
  },
  {
   "cell_type": "code",
   "execution_count": 11,
   "id": "21ab7cb3",
   "metadata": {},
   "outputs": [
    {
     "data": {
      "text/plain": [
       "3680"
      ]
     },
     "execution_count": 11,
     "metadata": {},
     "output_type": "execute_result"
    }
   ],
   "source": [
    "fifa_df['total_score'].idxmax()"
   ]
  },
  {
   "cell_type": "code",
   "execution_count": null,
   "id": "5993f3ed",
   "metadata": {},
   "outputs": [],
   "source": []
  }
 ],
 "metadata": {
  "kernelspec": {
   "display_name": "Python 3 (ipykernel)",
   "language": "python",
   "name": "python3"
  },
  "language_info": {
   "codemirror_mode": {
    "name": "ipython",
    "version": 3
   },
   "file_extension": ".py",
   "mimetype": "text/x-python",
   "name": "python",
   "nbconvert_exporter": "python",
   "pygments_lexer": "ipython3",
   "version": "3.11.5"
  }
 },
 "nbformat": 4,
 "nbformat_minor": 5
}
